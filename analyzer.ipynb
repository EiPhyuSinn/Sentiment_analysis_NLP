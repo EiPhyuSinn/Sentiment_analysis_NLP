{
 "cells": [
  {
   "cell_type": "code",
   "execution_count": 11,
   "id": "0c95d11f",
   "metadata": {},
   "outputs": [
    {
     "name": "stderr",
     "output_type": "stream",
     "text": [
      "[nltk_data] Downloading package stopwords to\n",
      "[nltk_data]     /Users/eiphyusinn/nltk_data...\n",
      "[nltk_data]   Package stopwords is already up-to-date!\n"
     ]
    },
    {
     "data": {
      "text/plain": [
       "True"
      ]
     },
     "execution_count": 11,
     "metadata": {},
     "output_type": "execute_result"
    }
   ],
   "source": [
    "import nltk\n",
    "nltk.download('stopwords')"
   ]
  },
  {
   "cell_type": "code",
   "execution_count": null,
   "id": "5766a0e0",
   "metadata": {},
   "outputs": [],
   "source": [
    "import emoji\n",
    "import re\n",
    "from nltk.corpus import stopwords\n",
    "from nltk.stem import PorterStemmer"
   ]
  },
  {
   "cell_type": "code",
   "execution_count": 25,
   "id": "97f09c7b",
   "metadata": {},
   "outputs": [
    {
     "name": "stdout",
     "output_type": "stream",
     "text": [
      "Cleaned Text: love python much fun\n",
      "Extracted Emojis: ['🐍', '😄']\n"
     ]
    }
   ],
   "source": [
    "\n",
    "stopwords_set = set(stopwords.words('english'))\n",
    "prter = PorterStemmer()\n",
    "\n",
    "def extract_emojis(text):\n",
    "    return [char for char in text if emoji.is_emoji(char)]\n",
    "\n",
    "def preprocessing(text):\n",
    "    emojis = extract_emojis(text)\n",
    "    \n",
    "    text_without_emojis = ''.join([char for char in text if not emoji.is_emoji(char)])\n",
    "\n",
    "    text_without_emojis = re.sub('<[^>]*>', '', text_without_emojis) \n",
    "    text_without_emojis = re.sub('[\\W+]', ' ', text_without_emojis.lower())  # Remove non-word characters\n",
    "\n",
    "\n",
    "    text = [prter.stem(word) for word in text_without_emojis.split() if word not in stopwords_set]\n",
    "\n",
    "    return \" \".join(text), emojis\n",
    "\n",
    "\n",
    "input_text = \"I love Python! 🐍 It's so much fun😄\"\n",
    "\n",
    "cleaned_text, emojis = preprocessing(input_text)\n",
    "\n",
    "print(\"Cleaned Text:\", cleaned_text)\n",
    "print(\"Extracted Emojis:\", emojis)\n"
   ]
  },
  {
   "cell_type": "code",
   "execution_count": 34,
   "id": "a0f99823",
   "metadata": {},
   "outputs": [
    {
     "name": "stdout",
     "output_type": "stream",
     "text": [
      "i\n",
      "love\n",
      "code\n",
      "it\n",
      "is\n",
      "happi\n"
     ]
    }
   ],
   "source": [
    "sentence = \"i loves coding it is happy😄\"\n",
    "not_emoji = []\n",
    "for char in sentence:\n",
    "    if not emoji.is_emoji(char):\n",
    "        not_emoji.append(char)\n",
    "\n",
    "sent = \"\".join(not_emoji)\n",
    "sent\n",
    "\n",
    "for word in sent.split(' '):\n",
    "    print(prter.stem(word))\n",
    "\n"
   ]
  },
  {
   "cell_type": "code",
   "execution_count": null,
   "id": "a9d907ea",
   "metadata": {},
   "outputs": [],
   "source": []
  }
 ],
 "metadata": {
  "kernelspec": {
   "display_name": "venv",
   "language": "python",
   "name": "python3"
  },
  "language_info": {
   "codemirror_mode": {
    "name": "ipython",
    "version": 3
   },
   "file_extension": ".py",
   "mimetype": "text/x-python",
   "name": "python",
   "nbconvert_exporter": "python",
   "pygments_lexer": "ipython3",
   "version": "3.11.5"
  }
 },
 "nbformat": 4,
 "nbformat_minor": 5
}
